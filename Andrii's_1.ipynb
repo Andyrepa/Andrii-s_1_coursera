{
 "cells": [
  {
   "cell_type": "markdown",
   "id": "8e0e4a10",
   "metadata": {},
   "source": [
    "# How to make the world a better and friendlier place!"
   ]
  },
  {
   "cell_type": "markdown",
   "id": "63010b47",
   "metadata": {},
   "source": [
    "## Introduction\n",
    "Anyone can make the world a better place if he or she does what he or she loves, does good for his or her family (good income), does good for society (being useful and contributing to the budget), and does not violate the environment of his or her neighbors."
   ]
  },
  {
   "cell_type": "markdown",
   "id": "2d2f3750",
   "metadata": {},
   "source": [
    "### Python, R, SQL, Java, Julia, SAS, Scala, MATLAB..."
   ]
  },
  {
   "cell_type": "markdown",
   "id": "7749ce6c",
   "metadata": {},
   "source": [
    "NumPy \n",
    "Pandas \n",
    "Matplotlib \n",
    "Seaborn \n",
    "Scikit-learn \n",
    "TensorFlow \n",
    "PyTorch \n",
    "Keras \n",
    "NLTK \n",
    "OpenCV "
   ]
  },
  {
   "cell_type": "markdown",
   "id": "b9addbdb",
   "metadata": {},
   "source": [
    "|  Tool/Technology\t  |                                                  Description\n",
    "-------------------------------------------------------------------------------------------------------------------------------|\n",
    "|Python\t              |High-level programming language used for data analysis, machine learning, and data visualization\n",
    "|R\t                  |Programming language used for statistical computing and graphics\n",
    "|SQL\t              |Language used for managing and querying relational databases\n",
    "|Tableau\t          |Business intelligence and data visualization tool used to create interactive dashboards and reports\n",
    "|Power BI\t          |Business analytics and visualization tool used to create interactive reports and visualizations\n",
    "|Apache Spark\t      |Open-source big data processing engine used for large-scale data processing and machine learning\n",
    "|Hadoop\t              |Open-source framework used for distributed storage and processing of big data\n",
    "|Jupyter Notebook\t  |Web-based interactive computing environment used for data analysis, data cleaning, and data visualization\n",
    "|TensorFlow\t          |Open-source machine learning framework used for building and training neural networks\n",
    "|scikit-learn\t      |Open-source machine learning library for Python used for data modeling and analysis\n",
    "|Pandas\t              |Open-source data analysis and manipulation library for Python\n",
    "|NumPy\t              |Open-source scientific computing library for Python used for numerical analysis\n",
    "|Matplotlib\t          |Open-source data visualization library for Python\n",
    "|Git\t              |Version control system used for collaboration and code management\n",
    "|Docker\t              |Containerization platform used for packaging and deploying applications\n",
    "|Kubernetes\t          |Open-source container orchestration platform used for managing and scaling containerized applications\n",
    "|Apache Hadoop\t      |Open source framework for distributed storage and processing of big data\n",
    "|Apache Kafka\t      |Distributed streaming platform for handling real-time data feeds\n",
    "|Apache Cassandra\t  |Distributed NoSQL database management system\n",
    "|MySQL\t              |Open source relational database management system\n",
    "|PostgreSQL\t          |Open source relational database management system\n",
    "|MongoDB\t          |Cross-platform document-oriented NoSQL database program\n",
    "|PyCharm\t          |Integrated development environment (IDE) for Python\n",
    "|Keras                |Open-source software library written in Python for building and training deep learning models"
   ]
  },
  {
   "cell_type": "markdown",
   "id": "34d5a7f8",
   "metadata": {},
   "source": [
    "Сложение: 2 + 2 = 4\n",
    "\n",
    "Вычитание: 10 - 5 = 5\n",
    "\n",
    "Умножение: 3 * 6 = 18\n",
    "\n",
    "Деление: 12 / 4 = 3\n",
    "\n",
    "Степень: 2^3 = 8\n",
    "\n",
    "Корень: sqrt(9) = 3 (можно использовать LaTeX для вставки символа корня)"
   ]
  },
  {
   "cell_type": "code",
   "execution_count": 1,
   "id": "63d5fb76",
   "metadata": {},
   "outputs": [
    {
     "name": "stdout",
     "output_type": "stream",
     "text": [
      "35\n",
      "13\n"
     ]
    }
   ],
   "source": [
    "# умножение чисел\n",
    "a = 5\n",
    "b = 7\n",
    "c = a * b\n",
    "print(c)\n",
    "\n",
    "# сложение чисел\n",
    "x = 10\n",
    "y = 3\n",
    "z = x + y\n",
    "print(z)"
   ]
  },
  {
   "cell_type": "code",
   "execution_count": 5,
   "id": "b6a0a358",
   "metadata": {},
   "outputs": [
    {
     "name": "stdout",
     "output_type": "stream",
     "text": [
      "73 = 1 hour and 13 minutes\n"
     ]
    }
   ],
   "source": [
    "minutes = 73\n",
    "\n",
    "hours = minutes // 60\n",
    "remaining_minutes = minutes % 60\n",
    "\n",
    "print(f\"{minutes} = {hours} hour and {remaining_minutes} minutes\")"
   ]
  },
  {
   "cell_type": "markdown",
   "id": "ea55e2ae",
   "metadata": {},
   "source": [
    "Target list\n",
    "1. To master in a short time (good enough for practice) a new, useful for me and the world speciality (Data Science)\n",
    "2. To learn all the optimal areas of knowledge for the new speciality.\n",
    "3. Practice and practice.\n",
    "4. To share and help others who need help.\n",
    "5. To become helpful in the new speciality to my family and my country (Ukraine)."
   ]
  },
  {
   "cell_type": "markdown",
   "id": "e4eada0d",
   "metadata": {},
   "source": [
    "                                                                                                            Andrii Repchenko"
   ]
  }
 ],
 "metadata": {
  "kernelspec": {
   "display_name": "Python 3 (ipykernel)",
   "language": "python",
   "name": "python3"
  },
  "language_info": {
   "codemirror_mode": {
    "name": "ipython",
    "version": 3
   },
   "file_extension": ".py",
   "mimetype": "text/x-python",
   "name": "python",
   "nbconvert_exporter": "python",
   "pygments_lexer": "ipython3",
   "version": "3.10.9"
  }
 },
 "nbformat": 4,
 "nbformat_minor": 5
}
